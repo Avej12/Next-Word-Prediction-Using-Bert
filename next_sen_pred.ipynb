{
 "cells": [
  {
   "cell_type": "code",
   "execution_count": 1,
   "id": "9547ff93",
   "metadata": {},
   "outputs": [
    {
     "name": "stderr",
     "output_type": "stream",
     "text": [
      "BertForMaskedLM has generative capabilities, as `prepare_inputs_for_generation` is explicitly overwritten. However, it doesn't directly inherit from `GenerationMixin`. From 👉v4.50👈 onwards, `PreTrainedModel` will NOT inherit from `GenerationMixin`, and this model will lose the ability to call `generate` and other related functions.\n",
      "  - If you're using `trust_remote_code=True`, you can get rid of this warning by loading the model with an auto class. See https://huggingface.co/docs/transformers/en/model_doc/auto#auto-classes\n",
      "  - If you are the owner of the model architecture code, please modify your model class such that it inherits from `GenerationMixin` (after `PreTrainedModel`, otherwise you'll get an exception).\n",
      "  - If you are not the owner of the model architecture class, please contact the model code owner to update it.\n",
      "Some weights of the model checkpoint at bert-base-uncased were not used when initializing BertForMaskedLM: ['bert.pooler.dense.bias', 'bert.pooler.dense.weight', 'cls.seq_relationship.bias', 'cls.seq_relationship.weight']\n",
      "- This IS expected if you are initializing BertForMaskedLM from the checkpoint of a model trained on another task or with another architecture (e.g. initializing a BertForSequenceClassification model from a BertForPreTraining model).\n",
      "- This IS NOT expected if you are initializing BertForMaskedLM from the checkpoint of a model that you expect to be exactly identical (initializing a BertForSequenceClassification model from a BertForSequenceClassification model).\n"
     ]
    }
   ],
   "source": [
    "import warnings \n",
    "warnings.filterwarnings('ignore')\n",
    "\n",
    "from transformers import BertTokenizer, BertForMaskedLM\n",
    "import torch\n",
    "\n",
    "tokenizer = BertTokenizer.from_pretrained('bert-base-uncased')\n",
    "model = BertForMaskedLM.from_pretrained('bert-base-uncased')\n",
    "\n",
    "def predict_next_sen(input_text, num_predictions=5):\n",
    "    input_text_with_mask = input_text + ' ' + ' '.join(['[MASK]'] * num_predictions)\n",
    "    input_ids = tokenizer.encode(input_text_with_mask, return_tensors='pt')\n",
    "    \n",
    " \n",
    "    with torch.no_grad():\n",
    "        outputs = model(input_ids)\n",
    "        predictions = outputs.logits\n",
    "\n",
    "    predicted_sentence = input_text\n",
    "    for i in range(num_predictions):\n",
    "       \n",
    "        mask_token_index = torch.where(input_ids == tokenizer.mask_token_id)[1]\n",
    "       \n",
    "        predicted_token_id = predictions[0, mask_token_index[0]].argmax(dim=-1)\n",
    "        predicted_token = tokenizer.decode(predicted_token_id)\n",
    "        \n",
    "       \n",
    "        input_text_with_mask = input_text_with_mask.replace('[MASK]', predicted_token, 1)\n",
    "        predicted_sentence += ' ' + predicted_token\n",
    "        \n",
    "       \n",
    "        input_ids = tokenizer.encode(input_text_with_mask, return_tensors='pt')\n",
    "\n",
    "    return predicted_sentence\n",
    "\n"
   ]
  },
  {
   "cell_type": "code",
   "execution_count": 3,
   "id": "008b1cdb",
   "metadata": {},
   "outputs": [
    {
     "name": "stdout",
     "output_type": "stream",
     "text": [
      "virat kohli is\n",
      "virat kohli is a a indian actor .\n"
     ]
    }
   ],
   "source": [
    "input_text = input()\n",
    "predicted_sentence = predict_next_sen(input_text, num_predictions=5)\n",
    "print(predicted_sentence)\n"
   ]
  },
  {
   "cell_type": "code",
   "execution_count": null,
   "id": "a74a450e",
   "metadata": {},
   "outputs": [],
   "source": []
  }
 ],
 "metadata": {
  "kernelspec": {
   "display_name": "Python [conda env:anaconda3-llm_env]",
   "language": "python",
   "name": "conda-env-anaconda3-llm_env-py"
  },
  "language_info": {
   "codemirror_mode": {
    "name": "ipython",
    "version": 3
   },
   "file_extension": ".py",
   "mimetype": "text/x-python",
   "name": "python",
   "nbconvert_exporter": "python",
   "pygments_lexer": "ipython3",
   "version": "3.9.19"
  }
 },
 "nbformat": 4,
 "nbformat_minor": 5
}
